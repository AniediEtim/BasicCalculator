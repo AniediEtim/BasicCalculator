{
 "cells": [
  {
   "cell_type": "code",
   "execution_count": 1,
   "id": "e7071482-a557-4b3d-ab68-849158e277d6",
   "metadata": {},
   "outputs": [
    {
     "name": "stdout",
     "output_type": "stream",
     "text": [
      "[10, 15, 20, 30, 40, 50, 60]\n",
      "Index of 30: 3\n"
     ]
    }
   ],
   "source": [
    "# Create an empty list\n",
    "my_list = []\n",
    "\n",
    "# Append elements to the list\n",
    "my_list.append(10)\n",
    "my_list.append(20)\n",
    "my_list.append(30)\n",
    "my_list.append(40)\n",
    "\n",
    "# Insert 15 at the second position\n",
    "my_list.insert(1, 15)\n",
    "\n",
    "# Extend the list with another list\n",
    "my_list.extend([50, 60, 70])\n",
    "\n",
    "# Remove the last element\n",
    "my_list.pop()\n",
    "\n",
    "# Sort the list in ascending order\n",
    "my_list.sort()\n",
    "\n",
    "# Find the index of 30\n",
    "index_of_30 = my_list.index(30)\n",
    "\n",
    "print(my_list)\n",
    "print(\"Index of 30:\", index_of_30)"
   ]
  },
  {
   "cell_type": "code",
   "execution_count": null,
   "id": "5c8ada48-27dd-4273-8948-d6d0214538d4",
   "metadata": {},
   "outputs": [],
   "source": []
  }
 ],
 "metadata": {
  "kernelspec": {
   "display_name": "Python 3 (ipykernel)",
   "language": "python",
   "name": "python3"
  },
  "language_info": {
   "codemirror_mode": {
    "name": "ipython",
    "version": 3
   },
   "file_extension": ".py",
   "mimetype": "text/x-python",
   "name": "python",
   "nbconvert_exporter": "python",
   "pygments_lexer": "ipython3",
   "version": "3.11.7"
  }
 },
 "nbformat": 4,
 "nbformat_minor": 5
}
