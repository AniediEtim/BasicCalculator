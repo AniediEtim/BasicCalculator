{
 "cells": [
  {
   "cell_type": "code",
   "execution_count": 1,
   "id": "d158cba0-54bf-47e2-a6ab-c5be181281ac",
   "metadata": {},
   "outputs": [
    {
     "name": "stdin",
     "output_type": "stream",
     "text": [
      "Enter the first number:  2\n",
      "Enter the second number:  3\n",
      "Enter the operator (+, -, *, /):  +\n"
     ]
    },
    {
     "name": "stdout",
     "output_type": "stream",
     "text": [
      "2.0 + 3.0 = 5.0\n"
     ]
    }
   ],
   "source": [
    "def calculate(num1, num2, operator):\n",
    "  if operator == '+':\n",
    "    return num1 + num2\n",
    "  elif operator == '-':\n",
    "    return num1 - num2\n",
    "  elif operator == '*':\n",
    "    return num1 * num2\n",
    "  elif operator == '/':\n",
    "    if num2 == 0:\n",
    "      return \"Error: Division by zero\"\n",
    "    else:\n",
    "      return num1 / num2\n",
    "  else:\n",
    "    return \"Invalid operator\"\n",
    "\n",
    "def main():\n",
    "  num1 = float(input(\"Enter the first number: \"))\n",
    "  num2 = float(input(\"Enter the second number: \"))\n",
    "  operator = input(\"Enter the operator (+, -, *, /): \")\n",
    "\n",
    "  result = calculate(num1, num2, operator)\n",
    "  print(f\"{num1} {operator} {num2} = {result}\")\n",
    "\n",
    "if __name__ == \"__main__\":\n",
    "  main()"
   ]
  },
  {
   "cell_type": "code",
   "execution_count": null,
   "id": "6fc6dd35-7603-40f0-8bbf-d43083452f8e",
   "metadata": {},
   "outputs": [],
   "source": []
  },
  {
   "cell_type": "code",
   "execution_count": null,
   "id": "12266210-991c-4d6e-840a-cb3f279930fc",
   "metadata": {},
   "outputs": [],
   "source": []
  }
 ],
 "metadata": {
  "kernelspec": {
   "display_name": "Python 3 (ipykernel)",
   "language": "python",
   "name": "python3"
  },
  "language_info": {
   "codemirror_mode": {
    "name": "ipython",
    "version": 3
   },
   "file_extension": ".py",
   "mimetype": "text/x-python",
   "name": "python",
   "nbconvert_exporter": "python",
   "pygments_lexer": "ipython3",
   "version": "3.11.7"
  }
 },
 "nbformat": 4,
 "nbformat_minor": 5
}
